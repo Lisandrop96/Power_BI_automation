{
 "cells": [
  {
   "cell_type": "code",
   "execution_count": 1,
   "id": "e142c882-e1ae-4c28-8616-e8db28aa5502",
   "metadata": {
    "tags": []
   },
   "outputs": [],
   "source": [
    "!pip install --trusted-host pypi.org --trusted-host pypi.pyhton.org --trusted-host files.pythonhosted.org pywin32\n",
    "!pip install --trusted-host pypi.org --trusted-host pypi.pyhton.org --trusted-host files.pythonhosted.org -U selenium\n"
   ]
  },
  {
   "cell_type": "code",
   "execution_count": 2,
   "id": "b23c8cd3-9bd1-481b-bd19-40a8caf345f8",
   "metadata": {},
   "outputs": [],
   "source": [
    "\n",
    "import os\n",
    "import sys \n",
    "import pandas as pd\n",
    "from selenium import webdriver \n",
    "import win32com.client\n",
    "import time\n",
    "from datetime import date\n",
    "import smtplib\n",
    "from email.mime.text import MIMEText\n",
    "from email.mime.multipart import MIMEMultipart\n",
    "from email.mime.application import MIMEApplication\n",
    "\n",
    "from selenium.webdriver.common.by import By\n",
    "from selenium.webdriver.common.action_chains import ActionChains\n"
   ]
  },
  {
   "cell_type": "code",
   "execution_count": 3,
   "id": "9a5bc442-eac6-40d8-badd-08ddf00ca46f",
   "metadata": {
    "tags": []
   },
   "outputs": [
    {
     "name": "stderr",
     "output_type": "stream",
     "text": [
      "The system cannot find the path specified.\n"
     ]
    }
   ],
   "source": [
    "### We open the browser\n",
    "!/usr/bin/env r\"C:\\Users\\youruser\\AppData\\Local\\anaconda3\\python\"\n",
    "driver = webdriver.Chrome()"
   ]
  },
  {
   "cell_type": "code",
   "execution_count": 4,
   "id": "de6e0c06-e54a-48a9-ad3e-dfcc1a7b8ffd",
   "metadata": {
    "tags": []
   },
   "outputs": [],
   "source": [
    "driver.get(\"https://app.powerbi.com/\")  #Here you should replace the string for your dashboard's link "
   ]
  },
  {
   "cell_type": "code",
   "execution_count": 5,
   "id": "62b3ca1f-8bf8-4c31-ae08-248c3db9dd02",
   "metadata": {
    "tags": []
   },
   "outputs": [],
   "source": [
    "time.sleep(10)"
   ]
  },
  {
   "cell_type": "code",
   "execution_count": 6,
   "id": "51691fb6-61d9-4d2a-a4fd-7c4a3ce75a40",
   "metadata": {
    "tags": []
   },
   "outputs": [],
   "source": [
    "email_field = driver.find_element(By.ID, \"email\")\n",
    "submit_button = driver.find_element(By.XPATH, \"/html/body/div/div[2]/div[2]/button\")\n"
   ]
  },
  {
   "cell_type": "code",
   "execution_count": 7,
   "id": "7e75745a-8fae-4a75-bd5e-4913e1a10c1e",
   "metadata": {
    "tags": []
   },
   "outputs": [],
   "source": [
    "email_field.send_keys(\"user@company.com\") #Power BI service sometimes asks for your email before opening the report.\n",
    "# if not, delete this step."
   ]
  },
  {
   "cell_type": "code",
   "execution_count": 8,
   "id": "5807102b-e6c7-4cb9-b712-6c94f1be26b3",
   "metadata": {
    "tags": []
   },
   "outputs": [],
   "source": [
    "time.sleep(5)\n",
    "submit_button.click()\n",
    "time.sleep(5)\n"
   ]
  },
  {
   "cell_type": "code",
   "execution_count": 9,
   "id": "71336bc1-51fa-4c36-a945-bba9ab1d16fc",
   "metadata": {
    "tags": []
   },
   "outputs": [],
   "source": [
    "#loggin button  \n",
    "loggin_final_button = driver.find_element(By.XPATH,\"/html/body/div/form/div/div/div[2]/div[1]/div/div/div/div/div/div[3]/div/div[2]/div/div[3]/div[2]/div/div/div[2]/input\")\n"
   ]
  },
  {
   "cell_type": "code",
   "execution_count": 10,
   "id": "6945bcb0-b81c-4a13-a28b-425dcc9a5d34",
   "metadata": {
    "tags": []
   },
   "outputs": [],
   "source": [
    "#last loggin button\n",
    "loggin_final_button.click()\n",
    "time.sleep(15)\n"
   ]
  },
  {
   "cell_type": "code",
   "execution_count": null,
   "id": "48ed60f8",
   "metadata": {},
   "outputs": [],
   "source": [
    "#export PDF button\n",
    "export_button = driver.find_element(By.XPATH,\"/html/body/div[1]/root/mat-sidenav-container/mat-sidenav-content/tri-shell-panel-outlet/tri-extension-panel-outlet/mat-sidenav-container/mat-sidenav-content/div/div/div[1]/tri-shell/tri-extension-page-outlet/div[2]/report/exploration-container/div/div/docking-container/div/div/div/section/app-bar/div/div[1]/button[2]\")\n"
   ]
  },
  {
   "cell_type": "code",
   "execution_count": null,
   "id": "b3f4f28b-b8fd-43a7-97ad-8d97fd537f65",
   "metadata": {
    "tags": []
   },
   "outputs": [],
   "source": [
    "#export\n",
    "time.sleep(2)\n",
    "\n",
    "export_button.click()\n",
    "\n",
    "time.sleep(0.5)\n"
   ]
  },
  {
   "cell_type": "code",
   "execution_count": null,
   "id": "b0585669-b8b7-4619-a062-fc562e7ddcf4",
   "metadata": {
    "tags": []
   },
   "outputs": [],
   "source": [
    "### We hover over the \"Export Button\" \n",
    "\n",
    "## In the end, this step appears not to be necessary.\n",
    "\n",
    "#time.sleep(2)\n",
    "#ActionChains(driver).move_to_element(export_button).perform()\n",
    "#time.sleep(5)"
   ]
  },
  {
   "cell_type": "code",
   "execution_count": null,
   "id": "2efcc041-553c-4d8c-89b9-5174673e82eb",
   "metadata": {
    "tags": []
   },
   "outputs": [],
   "source": [
    "#Locate Button and click it\n",
    "pdf_button = driver.find_element(By.XPATH, \"/html/body/div[2]/div[4]/div/div/div/button[3]\")\n",
    "pdf_button.click()\n",
    "time.sleep(5)\n"
   ]
  },
  {
   "cell_type": "code",
   "execution_count": null,
   "id": "54c9f2c0-2268-4d5c-a6d1-137ac5185faa",
   "metadata": {},
   "outputs": [],
   "source": [
    "#click the button to download only this page from the report.\n",
    "\n",
    "only_current_page_buton = driver.find_element(By.XPATH, \"/html/body/div[2]/div[4]/div/mat-dialog-container/export-report-dialog/form/template-dialog/dialog-body/mat-dialog-content/div/pbi-checkbox[2]/div/label/div/i\")\n",
    "only_current_page_buton.click()\n"
   ]
  },
  {
   "cell_type": "code",
   "execution_count": null,
   "id": "eed80569-fa97-4da9-b1e5-9ccf49db238a",
   "metadata": {},
   "outputs": [],
   "source": [
    "export_button = driver.find_element(By.XPATH, \"/html/body/div[2]/div[4]/div/mat-dialog-container/export-report-dialog/form/template-dialog/dialog-footer/mat-dialog-actions/div[2]/button[1]\")\n",
    "export_button.click()\n",
    "time.sleep(30)\n",
    "\n"
   ]
  },
  {
   "cell_type": "code",
   "execution_count": null,
   "id": "c85fb14d-a526-4fb6-a34a-172c5671ce79",
   "metadata": {},
   "outputs": [],
   "source": [
    "#We start the file download.\n"
   ]
  },
  {
   "cell_type": "code",
   "execution_count": null,
   "id": "da56b0a8-e843-4b8e-aec1-8e2b6ad3b12c",
   "metadata": {},
   "outputs": [],
   "source": [
    "\n",
    "# Locate the downloaded \n",
    "download_folder = r\"C:\\Users\\youruser\\Downloads\"\n",
    "file_name = 'report.pdf' #choose the name you prefer for your file"
   ]
  },
  {
   "cell_type": "code",
   "execution_count": null,
   "id": "3a303e21-4713-458e-9cdd-44bc1fab4b86",
   "metadata": {
    "tags": []
   },
   "outputs": [],
   "source": [
    "# Assuming only one file is downloaded\n",
    "file_path = os.path.join(download_folder, file_name)\n",
    "# Rename the file with today's date\n",
    "today = date.today().strftime(\"%Y-%m-%d\")\n",
    "new_file_name = f\"report - _{today}.pdf\"\n",
    "new_file_path = os.path.join(download_folder, new_file_name)\n",
    "os.rename(file_path, new_file_path)\n",
    "\n",
    "# Open the PDF\n"
   ]
  },
  {
   "cell_type": "code",
   "execution_count": null,
   "id": "1c8ac224-137d-4fe0-8f6d-bac4cc573e73",
   "metadata": {
    "tags": []
   },
   "outputs": [],
   "source": [
    "outlook = win32com.client.Dispatch(\"Outlook.Application\")\n",
    "mail = outlook.CreateItem(0)\n",
    "mail.HTMLBody = f\"\"\"Hi Team, I hope you are doing well. We share this week’s report and the link to the dashboard:  <br>  <a href=\"{\"link\"}\">Report  - Power BI</a>. Please reach out if you have any comments, questions, or suggestions 😊\"\"\"\n",
    " \n",
    " \n",
    "#We include the reports link in the message's body."
   ]
  },
  {
   "cell_type": "code",
   "execution_count": null,
   "id": "3482627a-4135-41ca-bbc3-7162df09137c",
   "metadata": {},
   "outputs": [],
   "source": [
    "\n",
    "mail.To = \"otherusers@company.com\"\n",
    "mail.Subject = \"Weekly Report\"\n",
    "\n",
    "attachment = \"C:\\\\path\\\\to\\\\your\\\\file.pdf\"\n",
    "mail.Attachments.Add(new_file_path)\n",
    "mail.Send()"
   ]
  },
  {
   "cell_type": "code",
   "execution_count": null,
   "id": "02ddb5df-faae-4ecb-8f68-e31907fc754b",
   "metadata": {
    "tags": []
   },
   "outputs": [],
   "source": [
    "#We also move the file from its previous destination to the new one.\n",
    "import shutil \n",
    "source = new_file_path\n",
    "destination = r\"C:\\Users\\youruser\\Documents\\Dshboards Back Up\" \n",
    "shutil.move(source, destination)"
   ]
  }
 ],
 "metadata": {
  "kernelspec": {
   "display_name": "Python 3 (ipykernel)",
   "language": "python",
   "name": "python3"
  },
  "language_info": {
   "codemirror_mode": {
    "name": "ipython",
    "version": 3
   },
   "file_extension": ".py",
   "mimetype": "text/x-python",
   "name": "python",
   "nbconvert_exporter": "python",
   "pygments_lexer": "ipython3",
   "version": "3.11.4"
  }
 },
 "nbformat": 4,
 "nbformat_minor": 5
}
